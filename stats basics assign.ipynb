{
 "cells": [
  {
   "cell_type": "code",
   "execution_count": null,
   "id": "00e6e40f-b58f-4f89-a834-523572f3ad26",
   "metadata": {},
   "outputs": [],
   "source": [
    "Statistics basics assignment"
   ]
  },
  {
   "cell_type": "code",
   "execution_count": 1,
   "id": "da204517-93cc-4a37-b666-1fd5267cbbf8",
   "metadata": {},
   "outputs": [
    {
     "data": {
      "text/plain": [
       "[12, 15, 12, 18, 19, 12, 20, 22, 19, 19, 24, 24, 24, 26, 28]"
      ]
     },
     "execution_count": 1,
     "metadata": {},
     "output_type": "execute_result"
    }
   ],
   "source": [
    "# Question 5: Implement a Python program to compute the mean, median, and mode of\n",
    "# a given list of numbers.\n",
    "\n",
    "numbers = [12, 15, 12, 18, 19, 12, 20, 22, 19, 19, 24, 24, 24, 26, 28]\n",
    "numbers"
   ]
  },
  {
   "cell_type": "code",
   "execution_count": 4,
   "id": "a4216464-8c10-4346-9de5-eae0f7c66b87",
   "metadata": {},
   "outputs": [
    {
     "data": {
      "text/plain": [
       "np.float64(19.6)"
      ]
     },
     "execution_count": 4,
     "metadata": {},
     "output_type": "execute_result"
    }
   ],
   "source": [
    "import numpy as np\n",
    "np.mean(numbers)"
   ]
  },
  {
   "cell_type": "code",
   "execution_count": 5,
   "id": "9c8afc13-7140-4de2-b19c-4d93de7b65f8",
   "metadata": {},
   "outputs": [
    {
     "data": {
      "text/plain": [
       "np.float64(19.0)"
      ]
     },
     "execution_count": 5,
     "metadata": {},
     "output_type": "execute_result"
    }
   ],
   "source": [
    "np.median(numbers)"
   ]
  },
  {
   "cell_type": "code",
   "execution_count": 6,
   "id": "ce007259-a7f5-4165-b6a8-1e2ff7cf861e",
   "metadata": {},
   "outputs": [],
   "source": [
    "from scipy import stats"
   ]
  },
  {
   "cell_type": "code",
   "execution_count": 7,
   "id": "cafe8926-7976-4569-baf1-e558e64ed126",
   "metadata": {},
   "outputs": [
    {
     "data": {
      "text/plain": [
       "ModeResult(mode=np.int64(12), count=np.int64(3))"
      ]
     },
     "execution_count": 7,
     "metadata": {},
     "output_type": "execute_result"
    }
   ],
   "source": [
    "stats.mode(numbers)"
   ]
  },
  {
   "cell_type": "code",
   "execution_count": 9,
   "id": "494622b4-6e41-4453-b79d-f13c26d57af5",
   "metadata": {},
   "outputs": [
    {
     "name": "stdout",
     "output_type": "stream",
     "text": [
      "Covariance: 275.0\n",
      "Correlation Coefficient: 0.995893206467704\n"
     ]
    }
   ],
   "source": [
    "# Question 6: Compute the covariance and correlation coefficient between the following\n",
    "# two datasets provided as lists in Python:\n",
    "\n",
    "list_x = [10, 20, 30, 40, 50]\n",
    "list_y = [15, 25, 35, 45, 60]\n",
    "\n",
    "x = np.array(list_x)\n",
    "y = np.array(list_y)\n",
    "\n",
    "# Covariance\n",
    "cov_matrix = np.cov(x, y, bias=False)  # Unbiased estimator (default)\n",
    "cov_xy = cov_matrix[0, 1]\n",
    "\n",
    "# Correlation Coefficient\n",
    "corr_matrix = np.corrcoef(x, y)\n",
    "corr_xy = corr_matrix[0, 1]\n",
    "\n",
    "print(\"Covariance:\", cov_xy)\n",
    "print(\"Correlation Coefficient:\", corr_xy)\n"
   ]
  },
  {
   "cell_type": "code",
   "execution_count": 10,
   "id": "b4516f1b-0c90-4b85-a299-608306f93c93",
   "metadata": {},
   "outputs": [
    {
     "data": {
      "image/png": "[encoded data removed]",
      "text/plain": [
       "<Figure size 640x480 with 1 Axes>"
      ]
     },
     "metadata": {},
     "output_type": "display_data"
    },
    {
     "name": "stdout",
     "output_type": "stream",
     "text": [
      "Q1: 17.25, Q3: 23.25, IQR: 6.0\n",
      "Lower Bound: 8.25, Upper Bound: 32.25\n",
      "Outliers: [35]\n"
     ]
    }
   ],
   "source": [
    "# Question 7: Write a Python script to draw a boxplot for the following numeric list and\n",
    "# identify its outliers. Explain the result:\n",
    "\n",
    "data = [12, 14, 14, 15, 18, 19, 19, 21, 22, 22, 23, 23, 24, 26, 29, 35]\n",
    "\n",
    "import seaborn as sns\n",
    "import matplotlib.pyplot as plt\n",
    "import numpy as np\n",
    "\n",
    "sns.boxplot(data=data, orient='h')\n",
    "plt.title(\"Boxplot of the Data\")\n",
    "plt.xlabel(\"Values\")\n",
    "plt.show()\n",
    "\n",
    "Q1 = np.percentile(data, 25)\n",
    "Q3 = np.percentile(data, 75)\n",
    "IQR = Q3 - Q1\n",
    "\n",
    "lower_bound = Q1 - 1.5 * IQR\n",
    "upper_bound = Q3 + 1.5 * IQR\n",
    "\n",
    "outliers = [x for x in data if x < lower_bound or x > upper_bound]\n",
    "\n",
    "print(f\"Q1: {Q1}, Q3: {Q3}, IQR: {IQR}\")\n",
    "print(f\"Lower Bound: {lower_bound}, Upper Bound: {upper_bound}\")\n",
    "print(f\"Outliers: {outliers}\")\n"
   ]
  },
  {
   "cell_type": "code",
   "execution_count": 11,
   "id": "360f6360-e4e2-425d-9913-56e29c1ac290",
   "metadata": {},
   "outputs": [
    {
     "name": "stdout",
     "output_type": "stream",
     "text": [
      "Covariance: 84875.0\n",
      "Correlation Coefficient: 0.9936\n"
     ]
    }
   ],
   "source": [
    "# Question 8: You are working as a data analyst in an e-commerce company. The\n",
    "# marketing team wants to know if there is a relationship between advertising spend and\n",
    "# daily sales.\n",
    "# Explain how you would use covariance and correlation to explore this\n",
    "# relationship.\n",
    "# Write Python code to compute the correlation between the two lists:\n",
    "# advertising_spend = [200, 250, 300, 400, 500]\n",
    "# daily_sales = [2200, 2450, 2750, 3200, 4000]\n",
    "\n",
    "import numpy as np\n",
    "\n",
    "# Given data\n",
    "advertising_spend = [200, 250, 300, 400, 500]\n",
    "daily_sales = [2200, 2450, 2750, 3200, 4000]\n",
    "\n",
    "# Convert to numpy arrays\n",
    "x = np.array(advertising_spend)\n",
    "y = np.array(daily_sales)\n",
    "\n",
    "# Covariance\n",
    "cov_matrix = np.cov(x, y, bias=False)\n",
    "cov_xy = cov_matrix[0, 1]\n",
    "\n",
    "# Correlation Coefficient\n",
    "corr_matrix = np.corrcoef(x, y)\n",
    "corr_xy = corr_matrix[0, 1]\n",
    "\n",
    "# Print results\n",
    "print(f\"Covariance: {cov_xy}\")\n",
    "print(f\"Correlation Coefficient: {corr_xy:.4f}\")\n"
   ]
  },
  {
   "cell_type": "code",
   "execution_count": 12,
   "id": "592f64e7-2e04-4160-8249-aefcd78e1b80",
   "metadata": {},
   "outputs": [
    {
     "data": {
      "image/png": "[encoded data removed]",
      "text/plain": [
       "<Figure size 640x480 with 1 Axes>"
      ]
     },
     "metadata": {},
     "output_type": "display_data"
    }
   ],
   "source": [
    "# Question 9: Your team has collected customer satisfaction survey data on a scale of\n",
    "# 1-10 and wants to understand its distribution before launching a new product.\n",
    "# Explain which summary statistics and visualizations (e.g. mean, standard\n",
    "# deviation, histogram) you’d use.\n",
    "# Write Python code to create a histogram using Matplotlib for the survey data:\n",
    "# survey_scores = [7, 8, 5, 9, 6, 7, 8, 9, 10, 4, 7, 6, 9, 8, 7]\n",
    "\n",
    "import matplotlib.pyplot as plt\n",
    "\n",
    "# Survey data\n",
    "survey_scores = [7, 8, 5, 9, 6, 7, 8, 9, 10, 4, 7, 6, 9, 8, 7]\n",
    "\n",
    "# Create histogram\n",
    "plt.hist(survey_scores, bins=range(1, 12), edgecolor='black', align='left')\n",
    "plt.title('Customer Satisfaction Survey Scores')\n",
    "plt.xlabel('Score')\n",
    "plt.ylabel('Frequency')\n",
    "plt.xticks(range(1, 11))\n",
    "plt.grid(axis='y', linestyle='--', alpha=0.7)\n",
    "plt.show()\n"
   ]
  },
  {
   "cell_type": "code",
   "execution_count": null,
   "id": "bf86dbed-fbd7-43f8-b5f3-0b3eab88713f",
   "metadata": {},
   "outputs": [],
   "source": []
  }
 ],
 "metadata": {
  "kernelspec": {
   "display_name": "Python 3 (ipykernel)",
   "language": "python",
   "name": "python3"
  },
  "language_info": {
   "codemirror_mode": {
    "name": "ipython",
    "version": 3
   },
   "file_extension": ".py",
   "mimetype": "text/x-python",
   "name": "python",
   "nbconvert_exporter": "python",
   "pygments_lexer": "ipython3",
   "version": "3.13.5"
  }
 },
 "nbformat": 4,
 "nbformat_minor": 5
}
